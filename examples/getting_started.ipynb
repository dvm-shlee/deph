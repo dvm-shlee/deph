{
 "cells": [
  {
   "cell_type": "markdown",
   "metadata": {},
   "source": [
    "# Getting Started with `deph`\n",
    "\n",
    "`deph` is a powerful tool for analyzing and isolating Python code dependencies. It's particularly useful for creating minimal, reproducible code snippets from complex projects or interactive notebook sessions.\n",
    "\n",
    "This notebook will walk you through the two main functions of `deph`:\n",
    "\n",
    "1.  **`deph.analyze()`**: To inspect the dependencies of a function or class.\n",
    "2.  **`deph.isolate()`**: To generate a self-contained, runnable script from a function or class."
   ]
  },
  {
   "cell_type": "markdown",
   "metadata": {},
   "source": [
    "## 1. Setup\n",
    "\n",
    "First, let's make sure `deph` is installed and import necessary libraries. If you are running this from the repository root, the library should be discoverable."
   ]
  },
  {
   "cell_type": "code",
   "execution_count": 7,
   "metadata": {},
   "outputs": [],
   "source": [
    "import sys\n",
    "import numpy as np\n",
    "import textwrap\n",
    "from pathlib import Path\n",
    "from pprint import pprint\n",
    "module_dir = Path.cwd().parent / 'src'\n",
    "sys.path.append(module_dir.as_posix())\n",
    "# Import the main functions from deph\n",
    "try:\n",
    "    from deph import analyze, isolate\n",
    "except ImportError:\n",
    "    print(\"Deph not found. Please install it or run this notebook from the project root.\")"
   ]
  },
  {
   "cell_type": "markdown",
   "metadata": {},
   "source": [
    "## 2. Defining Example Functions\n",
    "\n",
    "Let's create a few functions with different kinds of dependencies to use as our test cases.\n",
    "\n",
    "- A function that calls another local function.\n",
    "- A function that uses an external library (`numpy`).\n",
    "- A function that uses a standard library (`textwrap`)."
   ]
  },
  {
   "cell_type": "code",
   "execution_count": 8,
   "metadata": {},
   "outputs": [],
   "source": [
    "def get_greeting(name: str) -> str:\n",
    "    \"\"\"A simple helper function.\"\"\"\n",
    "    return f\"Hello, {name}!\"\n",
    "\n",
    "def process_data(data, name):\n",
    "    \"\"\"\n",
    "    This function uses:\n",
    "    1. An external library (numpy).\n",
    "    2. A standard library (textwrap).\n",
    "    3. A local function (get_greeting).\n",
    "    \"\"\"\n",
    "    greeting = get_greeting(name)\n",
    "    print(greeting)\n",
    "    \n",
    "    # Use numpy for some calculation\n",
    "    mean_value = np.mean(data)\n",
    "    print(f\"Mean of data: {mean_value}\")\n",
    "    \n",
    "    # Use textwrap to format a message\n",
    "    long_message = f\"The calculated mean was {mean_value}. This is a long message that needs to be wrapped nicely for display.\"\n",
    "    wrapped_message = textwrap.fill(long_message, width=40)\n",
    "    \n",
    "    print(\"\\n--- Formatted Message ---\")\n",
    "    print(wrapped_message)\n",
    "    \n",
    "    return mean_value"
   ]
  },
  {
   "cell_type": "markdown",
   "metadata": {},
   "source": [
    "## 3. Analyzing Dependencies with `deph.analyze()`\n",
    "\n",
    "The `analyze` function inspects an object and returns a detailed report of its dependencies. This includes imported modules, module-level variables, and other functions or classes it depends on."
   ]
  },
  {
   "cell_type": "code",
   "execution_count": 9,
   "metadata": {},
   "outputs": [
    {
     "name": "stdout",
     "output_type": "stream",
     "text": [
      "AttrDefaultDict(\n",
      "  {'def_items': [DefItem(name='process_data',\n",
      "                         type='function',\n",
      "                         code='def process_data(data, name):\\n'\n",
      "                              '    \"\"\"\\n'\n",
      "                              '    This function uses:\\n'\n",
      "                              '    1. An external library (numpy).\\n'\n",
      "                              '    2. A standard library (textwrap).\\n'\n",
      "                              '    3. A local function (get_greeting).\\n'\n",
      "                              '    \"\"\"\\n'\n",
      "                              '    greeting = get_greeting(name)\\n'\n",
      "                              '    print(greeting)\\n'\n",
      "                              '    mean_value = np.mean(data)\\n'\n",
      "                              \"    print(f'Mean of data: {mean_value}')\\n\"\n",
      "                              \"    long_message = f'The calculated mean was \"\n",
      "                              '{mean_value}. This is a long message that needs to be '\n",
      "                              \"wrapped nicely for display.'\\n\"\n",
      "                              '    wrapped_message = textwrap.fill(long_message, '\n",
      "                              'width=40)\\n'\n",
      "                              \"    print('\\\\n--- Formatted Message ---')\\n\"\n",
      "                              '    print(wrapped_message)\\n'\n",
      "                              '    return mean_value',\n",
      "                         node=<ast.FunctionDef object at 0x107c91690>,\n",
      "                         pruned=<ast.FunctionDef object at 0x107b7f110>,\n",
      "                         function_defs=[],\n",
      "                         class_defs=[]),\n",
      "                 DefItem(name='get_greeting',\n",
      "                         type='function',\n",
      "                         code='def get_greeting(name: str) -> str:\\n'\n",
      "                              '    \"\"\"A simple helper function.\"\"\"\\n'\n",
      "                              \"    return f'Hello, {name}!'\",\n",
      "                         node=<ast.FunctionDef object at 0x107c93250>,\n",
      "                         pruned=<ast.FunctionDef object at 0x107b8e710>,\n",
      "                         function_defs=[],\n",
      "                         class_defs=[])],\n",
      "   'entries': [{'module': '__main__', 'name': 'process_data'}],\n",
      "   'imports': {'__main__': {'np': ImportItem(names={'np': 'numpy'},\n",
      "                                             module='numpy',\n",
      "                                             package_name='numpy',\n",
      "                                             submodule=None,\n",
      "                                             code='import numpy as np',\n",
      "                                             level=None,\n",
      "                                             is_dynamic=False,\n",
      "                                             use_star=False),\n",
      "                            'textwrap': ImportItem(names={'textwrap': 'textwrap'},\n",
      "                                                   module='textwrap',\n",
      "                                                   package_name='textwrap',\n",
      "                                                   submodule=None,\n",
      "                                                   code='import textwrap',\n",
      "                                                   level=None,\n",
      "                                                   is_dynamic=False,\n",
      "                                                   use_star=False)}},\n",
      "   'typehints': {},\n",
      "   'unbound': [],\n",
      "   'vars': {}}\n",
      ")\n"
     ]
    }
   ],
   "source": [
    "# Let's analyze our main function, `process_data`\n",
    "report = analyze(process_data)\n",
    "\n",
    "# The report is a dictionary-like object. Let's inspect its contents.\n",
    "pprint(report)"
   ]
  },
  {
   "cell_type": "markdown",
   "metadata": {},
   "source": [
    "### Understanding the Report\n",
    "\n",
    "The report contains several key sections:\n",
    "\n",
    "- **`entries`**: The list of objects you asked to analyze.\n",
    "- **`def_items`**: A list of all function and class definitions required by the entries. You can see that `deph` automatically found that `process_data` needs `get_greeting`.\n",
    "- **`imports`**: A dictionary of all required imports, categorized by module. Notice it found `numpy` and `textwrap`.\n",
    "- **`unbound`**: A list of any names that were used but could not be resolved. This should be empty if all dependencies are found."
   ]
  },
  {
   "cell_type": "markdown",
   "metadata": {},
   "source": [
    "## 4. Isolating Code with `deph.isolate()`\n",
    "\n",
    "The `isolate` function takes the analysis one step further: it generates a complete, self-contained Python script based on the dependency report. This is perfect for sharing a piece of your work or creating a reproducible example."
   ]
  },
  {
   "cell_type": "code",
   "execution_count": 10,
   "metadata": {},
   "outputs": [
    {
     "name": "stdout",
     "output_type": "stream",
     "text": [
      "import numpy as np\n",
      "import textwrap\n",
      "\n",
      "def process_data(data, name):\n",
      "    \"\"\"\n",
      "    This function uses:\n",
      "    1. An external library (numpy).\n",
      "    2. A standard library (textwrap).\n",
      "    3. A local function (get_greeting).\n",
      "    \"\"\"\n",
      "    greeting = get_greeting(name)\n",
      "    print(greeting)\n",
      "    mean_value = np.mean(data)\n",
      "    print(f'Mean of data: {mean_value}')\n",
      "    long_message = f'The calculated mean was {mean_value}. This is a long message that needs to be wrapped nicely for display.'\n",
      "    wrapped_message = textwrap.fill(long_message, width=40)\n",
      "    print('\\n--- Formatted Message ---')\n",
      "    print(wrapped_message)\n",
      "    return mean_value\n",
      "\n",
      "def get_greeting(name: str) -> str:\n",
      "    \"\"\"A simple helper function.\"\"\"\n",
      "    return f'Hello, {name}!'\n",
      "\n"
     ]
    }
   ],
   "source": [
    "# Isolate the `process_data` function\n",
    "result = isolate(process_data)\n",
    "\n",
    "print(result.source)"
   ]
  },
  {
   "cell_type": "markdown",
   "metadata": {},
   "source": [
    "### Examining the Isolated Code\n",
    "\n",
    "The generated script has a few distinct parts:\n",
    "\n",
    "1.  **Imports**: All necessary `import` statements are placed at the top.\n",
    "\n",
    "2.  **Variables**: Any required module-level variables come next (if present).\n",
    "\n",
    "3.  **Definitions**: All required functions and classes (`get_greeting` and `process_data`) are included in the correct order.\n",
    "\n",
    "The `isolate` helper returns a result object with:\n",
    "\n",
    "- `source`: the generated Python source string\n",
    "- `warnings`: unresolved name messages (also printed to stderr)\n",
    "- `reqs_pypi` / `reqs_unknown`: inferred non-stdlib package names\n"
   ]
  },
  {
   "cell_type": "markdown",
   "metadata": {},
   "source": [
    "### Running the Isolated Code\n",
    "\n",
    "We can even execute the generated code directly to prove that it works."
   ]
  },
  {
   "cell_type": "code",
   "execution_count": 11,
   "metadata": {},
   "outputs": [
    {
     "name": "stdout",
     "output_type": "stream",
     "text": [
      "--- Executing Generated Script ---\n",
      "Hello, World!\n",
      "Mean of data: 25.0\n",
      "\n",
      "--- Formatted Message ---\n",
      "The calculated mean was 25.0. This is a\n",
      "long message that needs to be wrapped\n",
      "nicely for display.\n"
     ]
    }
   ],
   "source": [
    "# We can add a call to our function at the end of the script\n",
    "runnable_script = result.source + \"\\n# --- Let's run it! ---\\nprocess_data([10, 20, 30, 40], name='World')\"\n",
    "\n",
    "print(\"--- Executing Generated Script ---\")\n",
    "exec(runnable_script)"
   ]
  },
  {
   "cell_type": "markdown",
   "metadata": {},
   "source": [
    "## 5. Advanced: Isolating Multiple Entries\n",
    "\n",
    "`deph` can also handle multiple entry points at once, intelligently merging their dependencies into a single script."
   ]
  },
  {
   "cell_type": "code",
   "execution_count": 12,
   "metadata": {},
   "outputs": [
    {
     "name": "stdout",
     "output_type": "stream",
     "text": [
      "import numpy as np\n",
      "import textwrap\n",
      "\n",
      "def process_data(data, name):\n",
      "    \"\"\"\n",
      "    This function uses:\n",
      "    1. An external library (numpy).\n",
      "    2. A standard library (textwrap).\n",
      "    3. A local function (get_greeting).\n",
      "    \"\"\"\n",
      "    greeting = get_greeting(name)\n",
      "    print(greeting)\n",
      "    mean_value = np.mean(data)\n",
      "    print(f'Mean of data: {mean_value}')\n",
      "    long_message = f'The calculated mean was {mean_value}. This is a long message that needs to be wrapped nicely for display.'\n",
      "    wrapped_message = textwrap.fill(long_message, width=40)\n",
      "    print('\\n--- Formatted Message ---')\n",
      "    print(wrapped_message)\n",
      "    return mean_value\n",
      "\n",
      "def get_greeting(name: str) -> str:\n",
      "    \"\"\"A simple helper function.\"\"\"\n",
      "    return f'Hello, {name}!'\n",
      "\n",
      "def say_goodbye():\n",
      "    print('Goodbye!')\n",
      "\n"
     ]
    }
   ],
   "source": [
    "# A second, independent function\n",
    "def say_goodbye():\n",
    "    print(\"Goodbye!\")\n",
    "\n",
    "# Isolate both `process_data` and `say_goodbye` together\n",
    "result2 = isolate(process_data, say_goodbye)\n",
    "\n",
    "print(result2.source)\n"
   ]
  },
  {
   "cell_type": "markdown",
   "metadata": {},
   "source": [
    "As you can see, `deph` combined the dependencies for both functions, including `numpy`, `textwrap`, `get_greeting`, `process_data`, and `say_goodbye` in the final script."
   ]
  }
 ],
 "metadata": {
  "kernelspec": {
   "display_name": "dvm-shlee",
   "language": "python",
   "name": "python3"
  },
  "language_info": {
   "codemirror_mode": {
    "name": "ipython",
    "version": 3
   },
   "file_extension": ".py",
   "mimetype": "text/x-python",
   "name": "python",
   "nbconvert_exporter": "python",
   "pygments_lexer": "ipython3",
   "version": "3.10.14"
  }
 },
 "nbformat": 4,
 "nbformat_minor": 4
}
