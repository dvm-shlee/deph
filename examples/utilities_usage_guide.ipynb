{
 "cells": [
  {
   "cell_type": "markdown",
   "metadata": {},
   "source": [
    "# Guide to `deph.utils` Utilities\n",
    "\n",
    "The `deph` package includes a powerful and dependency-free utility module named `devh`. This module provides simple solutions for common development tasks.\n",
    "\n",
    "This notebook demonstrates the three core components of `devh`:\n",
    "\n",
    "1.  **`deph.utils.log`**: A simple, flexible logging setup utility.\n",
    "2.  **`deph.utils.pip`**: A programmatic wrapper for `pip` to install, query, and manage packages.\n",
    "3.  **`deph.utils.zip`**: A lightweight toolkit for creating and inspecting ZIP archives."
   ]
  },
  {
   "cell_type": "markdown",
   "metadata": {},
   "source": [
    "## 1. `deph.utils.log` - Simplified Logging\n",
    "\n",
    "`deph.utils.log` lets you configure console and file logging with a single function call, avoiding the usual boilerplate."
   ]
  },
  {
   "cell_type": "code",
   "execution_count": 5,
   "metadata": {},
   "outputs": [
    {
     "name": "stdout",
     "output_type": "stream",
     "text": [
      "--- Console Logging ---\n",
      "This is an info message.\n"
     ]
    },
    {
     "name": "stderr",
     "output_type": "stream",
     "text": [
      "[WARNING ] __main__: This is a warning.\n"
     ]
    },
    {
     "name": "stdout",
     "output_type": "stream",
     "text": [
      "\n",
      "--- File Logging (Contents of test_app.log) ---\n",
      "2025-10-05 13:15:46,226 [DEBUG   ]  __main__: This message goes only to the file.\n"
     ]
    }
   ],
   "source": [
    "import sys\n",
    "import logging\n",
    "import os\n",
    "from pathlib import Path\n",
    "module_dir = Path.cwd().parent / 'src'\n",
    "sys.path.append(module_dir.as_posix())\n",
    "from deph.utils import log\n",
    "\n",
    "# --- Example 1: Basic Console Logging ---\n",
    "print(\"--- Console Logging ---\")\n",
    "log.init(level=logging.INFO) # Set up logging to the console\n",
    "log.emit(\"This is an info message.\")\n",
    "log.emit(\"This is a warning.\", level=\"warning\")\n",
    "log.emit(\"This debug message won't be shown.\", level=\"debug\")\n",
    "\n",
    "# --- Example 2: Logging to a File ---\n",
    "LOG_FILE = Path(\"test_app.log\")\n",
    "log.init(log_file=LOG_FILE, use_console=False, level=logging.DEBUG)\n",
    "log.emit(\"This message goes only to the file.\", level=\"debug\")\n",
    "\n",
    "print(f\"\\n--- File Logging (Contents of {LOG_FILE}) ---\")\n",
    "print(LOG_FILE.read_text().strip())\n",
    "os.remove(LOG_FILE)"
   ]
  },
  {
   "cell_type": "markdown",
   "metadata": {},
   "source": [
    "## 2. `deph.utils.pip` - Programmatic Package Management\n",
    "\n",
    "`deph.utils.pip` provides a safe and reliable way to call `pip` from your Python scripts, returning structured JSON data instead of plain text."
   ]
  },
  {
   "cell_type": "code",
   "execution_count": 7,
   "metadata": {},
   "outputs": [
    {
     "name": "stdout",
     "output_type": "stream",
     "text": [
      "--- 1. Checking if 'tqdm' is installed ---\n",
      "Is 'tqdm' installed? Yes, version 4.67.1\n"
     ]
    }
   ],
   "source": [
    "from deph.utils import pip as util_pip\n",
    "from pprint import pprint\n",
    "\n",
    "if util_pip is None:\n",
    "    print(\"pip utilities are unavailable in this environment.\")\n",
    "else:\n",
    "    # Initialize the wrapper for the current Python environment\n",
    "    installer = util_pip.Pip()\n",
    "\n",
    "    # --- Example 1: Install, Check, and Uninstall a Package ---\n",
    "    PACKAGE_NAME = \"tqdm\"\n",
    "\n",
    "    print(f\"--- 1. Checking if '{PACKAGE_NAME}' is installed ---\")\n",
    "    installed_version = installer.is_installed(PACKAGE_NAME)\n",
    "    print(f\"Is '{PACKAGE_NAME}' installed? {'Yes, version ' + installed_version if installed_version else 'No'}\")\n",
    "\n",
    "    if not installed_version:\n",
    "        try:\n",
    "            print(f\"\\n--- 2. Installing '{PACKAGE_NAME}' ---\")\n",
    "            rep = installer.install(PACKAGE_NAME)\n",
    "            print(\"Installed.\")\n",
    "        except Exception as e:\n",
    "            print(f\"Install failed: {e}\")\n",
    "\n",
    "    # --- Optional: Uninstall (commented out) ---\n",
    "    # try:\n",
    "    #     print(f\"\\n--- 3. Uninstalling '{PACKAGE_NAME}' ---\")\n",
    "    #     rep_un = installer.uninstall(PACKAGE_NAME)\n",
    "    #     print(\"Uninstalled.\")\n",
    "    # except Exception as e:\n",
    "    #     print(f\"Uninstall failed: {e}\")\n"
   ]
  },
  {
   "cell_type": "code",
   "execution_count": 8,
   "metadata": {},
   "outputs": [
    {
     "name": "stdout",
     "output_type": "stream",
     "text": [
      "\n",
      "--- Available versions for 'pandas' (latest 5) ---\n",
      "['2.3.3', '2.3.2', '2.3.1', '2.3.0', '2.2.3']\n"
     ]
    }
   ],
   "source": [
    "# --- Example 2: List available versions of a package ---\n",
    "print(\"\\n--- Available versions for 'pandas' (latest 5) ---\")\n",
    "if util_pip is None:\n",
    "    print(\"pip utilities are unavailable in this environment.\")\n",
    "else:\n",
    "    try:\n",
    "        pandas_versions = installer.available_versions(\"pandas\")\n",
    "        pprint(pandas_versions[:5])\n",
    "    except Exception as e:\n",
    "        print(f\"Could not fetch versions. Maybe you are offline? Error: {e}\")\n"
   ]
  },
  {
   "cell_type": "markdown",
   "metadata": {},
   "source": [
    "## 3. `deph.utils.zip` - ZIP Archive Handling\n",
    "\n",
    "`deph.utils.zip` is a utility for creating and inspecting ZIP files without needing external libraries. It's perfect for packaging artifacts or analyzing existing archives."
   ]
  },
  {
   "cell_type": "code",
   "execution_count": 9,
   "metadata": {},
   "outputs": [
    {
     "name": "stdout",
     "output_type": "stream",
     "text": [
      "--- Creating archive.zip from 'my_archive' directory ---\n",
      "Archive created: True\n",
      "\n",
      "--- Contents of the ZIP archive ---\n",
      "Directory: \n",
      "  Sub-directories: ['config']\n",
      "  Files: [ZippedFile(name='data.csv', arcname='data.csv', zipobj=<zipfile.ZipFile filename='archive.zip' mode='r'>)]\n",
      "Directory: config\n",
      "  Files: [ZippedFile(name='settings.json', arcname='config/settings.json', zipobj=<zipfile.ZipFile filename='archive.zip' mode='r'>)]\n",
      "\n",
      "--- Cleanup complete ---\n"
     ]
    }
   ],
   "source": [
    "from deph.utils import zip\n",
    "\n",
    "# --- Setup: Create some dummy files and directories ---\n",
    "Path(\"my_archive\").mkdir(exist_ok=True)\n",
    "Path(\"my_archive/data.csv\").write_text(\"col1,col2\\n1,2\")\n",
    "Path(\"my_archive/config\").mkdir(exist_ok=True)\n",
    "Path(\"my_archive/config/settings.json\").write_text('{\"key\": \"value\"}')\n",
    "\n",
    "ZIP_PATH = Path(\"archive.zip\")\n",
    "\n",
    "# --- Example 1: Create a ZIP from a directory ---\n",
    "print(f\"--- Creating {ZIP_PATH} from 'my_archive' directory ---\")\n",
    "zip.create_from_dir(ZIP_PATH, \"my_archive\")\n",
    "print(f\"Archive created: {ZIP_PATH.exists()}\")\n",
    "\n",
    "# --- Example 2: Walk through the contents of the ZIP ---\n",
    "print(\"\\n--- Contents of the ZIP archive ---\")\n",
    "for root, dirs, files in zip.walk(zip.load(ZIP_PATH)):\n",
    "    print(f\"Directory: {root}\")\n",
    "    if dirs:\n",
    "        print(f\"  Sub-directories: {dirs}\")\n",
    "    if files:\n",
    "        print(f\"  Files: {files}\")\n",
    "\n",
    "# --- Cleanup ---\n",
    "import shutil\n",
    "os.remove(ZIP_PATH)\n",
    "shutil.rmtree(\"my_archive\")\n",
    "print(\"\\n--- Cleanup complete ---\")"
   ]
  },
  {
   "cell_type": "code",
   "execution_count": null,
   "metadata": {},
   "outputs": [],
   "source": []
  }
 ],
 "metadata": {
  "kernelspec": {
   "display_name": "dvm-shlee",
   "language": "python",
   "name": "python3"
  },
  "language_info": {
   "codemirror_mode": {
    "name": "ipython",
    "version": 3
   },
   "file_extension": ".py",
   "mimetype": "text/x-python",
   "name": "python",
   "nbconvert_exporter": "python",
   "pygments_lexer": "ipython3",
   "version": "3.13.7"
  }
 },
 "nbformat": 4,
 "nbformat_minor": 4
}
